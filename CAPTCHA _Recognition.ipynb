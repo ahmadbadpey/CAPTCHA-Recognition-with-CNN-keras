{
 "cells": [
  {
   "cell_type": "code",
   "execution_count": 1,
   "id": "c13a253c",
   "metadata": {},
   "outputs": [],
   "source": [
    "from tensorflow.keras.models import load_model\n",
    "import numpy as np\n",
    "import cv2 as cv"
   ]
  },
  {
   "cell_type": "markdown",
   "id": "084e7f5b",
   "metadata": {},
   "source": [
    "### loading model"
   ]
  },
  {
   "cell_type": "code",
   "execution_count": 2,
   "id": "b07b8f18",
   "metadata": {},
   "outputs": [],
   "source": [
    "model = load_model('model.h5')"
   ]
  },
  {
   "cell_type": "markdown",
   "id": "9e7f2035",
   "metadata": {},
   "source": [
    "### CAPTCHA Recognition"
   ]
  },
  {
   "cell_type": "code",
   "execution_count": null,
   "id": "a2989ebb",
   "metadata": {},
   "outputs": [
    {
     "name": "stdout",
     "output_type": "stream",
     "text": [
      "1/1 [==============================] - 0s 27ms/step\n",
      "3\n",
      "1/1 [==============================] - 0s 26ms/step\n",
      "5\n",
      "1/1 [==============================] - 0s 27ms/step\n",
      "9\n",
      "1/1 [==============================] - 0s 28ms/step\n",
      "8\n",
      "1/1 [==============================] - 0s 29ms/step\n",
      "7\n"
     ]
    }
   ],
   "source": [
    "img = cv.imread('captcha.png')\n",
    "\n",
    "gray_img = cv.cvtColor(img , cv.COLOR_BGR2GRAY)\n",
    "\n",
    "T , thresholded = cv.threshold(gray_img , 100 , 255 ,cv.THRESH_BINARY_INV)\n",
    "\n",
    "\n",
    "cont , test = cv.findContours(thresholded , cv.RETR_EXTERNAL , cv.CHAIN_APPROX_SIMPLE)\n",
    "padding = 10 \n",
    "\n",
    "for i in range(len(cont)):\n",
    "    x , y , w , h = cv.boundingRect(cont[i])\n",
    "    \n",
    "    roi = img [y-padding : y + h + padding , x-padding : x+w+padding ] #Croping detected Digits\n",
    "    roi = cv.resize(roi , (28,28))\n",
    "    roi = roi/255.\n",
    "    roi = np.array([roi])\n",
    "    \n",
    "    output = model.predict(roi)[0]\n",
    "    max_index = np.argmax(output)\n",
    "    print(max_index)\n",
    "    \n",
    "    cv.rectangle(img , (x - padding, y-padding) , (x+ w + padding , y+ h + padding) , (255,0,0) , 2)\n",
    "    cv.putText(img , str(max_index) , (x , y- 20) , cv.FONT_HERSHEY_COMPLEX , 1 , (255,100,0) , 2 )\n",
    "#     cv.drawContours(img , cont , i , (0,255,0), 2)\n",
    "\n",
    "cv.imshow('myWin' , img)\n",
    "cv.waitKey(0)\n",
    "    \n",
    "cv.destroyAllWindows()\n"
   ]
  }
 ],
 "metadata": {
  "kernelspec": {
   "display_name": "Python 3 (ipykernel)",
   "language": "python",
   "name": "python3"
  },
  "language_info": {
   "codemirror_mode": {
    "name": "ipython",
    "version": 3
   },
   "file_extension": ".py",
   "mimetype": "text/x-python",
   "name": "python",
   "nbconvert_exporter": "python",
   "pygments_lexer": "ipython3",
   "version": "3.10.7"
  }
 },
 "nbformat": 4,
 "nbformat_minor": 5
}
