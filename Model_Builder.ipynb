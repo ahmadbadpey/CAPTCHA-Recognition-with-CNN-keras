{
 "cells": [
  {
   "cell_type": "markdown",
   "id": "db7ab9d7",
   "metadata": {},
   "source": [
    "### Import Libraries"
   ]
  },
  {
   "cell_type": "code",
   "execution_count": 62,
   "id": "6174665f",
   "metadata": {},
   "outputs": [],
   "source": [
    "from tensorflow.keras import layers, models\n",
    "from sklearn.model_selection import train_test_split\n",
    "from tensorflow.keras.utils import img_to_array\n",
    "import os\n",
    "import numpy as np\n",
    "from sklearn.preprocessing import LabelBinarizer\n",
    "import cv2 as cv\n",
    "import matplotlib.pyplot as plt "
   ]
  },
  {
   "cell_type": "markdown",
   "id": "52340f6d",
   "metadata": {},
   "source": [
    "### loading Data "
   ]
  },
  {
   "cell_type": "code",
   "execution_count": 40,
   "id": "3e6f7d0a",
   "metadata": {},
   "outputs": [
    {
     "name": "stdout",
     "output_type": "stream",
     "text": [
      "[INFO] : 0 is Processed...\n",
      "[INFO] : 0 is Processed...\n",
      "[INFO] : 100 is Processed...\n",
      "[INFO] : 200 is Processed...\n",
      "[INFO] : 0 is Processed...\n",
      "[INFO] : 100 is Processed...\n",
      "[INFO] : 200 is Processed...\n",
      "[INFO] : 0 is Processed...\n",
      "[INFO] : 100 is Processed...\n",
      "[INFO] : 0 is Processed...\n",
      "[INFO] : 100 is Processed...\n",
      "[INFO] : 200 is Processed...\n",
      "[INFO] : 0 is Processed...\n",
      "[INFO] : 100 is Processed...\n",
      "[INFO] : 200 is Processed...\n",
      "[INFO] : 0 is Processed...\n",
      "[INFO] : 100 is Processed...\n",
      "[INFO] : 200 is Processed...\n",
      "[INFO] : 0 is Processed...\n",
      "[INFO] : 100 is Processed...\n",
      "[INFO] : 200 is Processed...\n",
      "[INFO] : 0 is Processed...\n",
      "[INFO] : 100 is Processed...\n",
      "[INFO] : 200 is Processed...\n",
      "[INFO] : 0 is Processed...\n",
      "[INFO] : 100 is Processed...\n"
     ]
    }
   ],
   "source": [
    "all_images = []\n",
    "all_labels = []\n",
    "\n",
    "folders = os.listdir('captcha')\n",
    "for fold_name in folders : \n",
    "    \n",
    "    for i , file in enumerate(os.listdir('captcha/'+fold_name)):\n",
    "        img = cv.imread('captcha/'+fold_name +'/'+file,1)\n",
    "        img = cv.resize(img , (28,28))\n",
    "        img = img/255.\n",
    "        \n",
    "        all_images.append(img)\n",
    "        all_labels.append(fold_name)\n",
    "        \n",
    "        if i%100 == 0 :\n",
    "            print(\"[INFO] : {x} is Processed...\".format(x=i))\n",
    "        \n",
    "\n",
    "all_images = np.array(all_images)\n"
   ]
  },
  {
   "cell_type": "markdown",
   "id": "2a132e57",
   "metadata": {},
   "source": [
    "### Endocing Labels"
   ]
  },
  {
   "cell_type": "code",
   "execution_count": 41,
   "id": "a57d493d",
   "metadata": {},
   "outputs": [
    {
     "data": {
      "text/plain": [
       "array([[1, 0, 0, ..., 0, 0, 0],\n",
       "       [1, 0, 0, ..., 0, 0, 0],\n",
       "       [1, 0, 0, ..., 0, 0, 0],\n",
       "       ...,\n",
       "       [0, 0, 0, ..., 0, 0, 1],\n",
       "       [0, 0, 0, ..., 0, 0, 1],\n",
       "       [0, 0, 0, ..., 0, 0, 1]])"
      ]
     },
     "execution_count": 41,
     "metadata": {},
     "output_type": "execute_result"
    }
   ],
   "source": [
    "lb = LabelBinarizer()\n",
    "all_labels = lb.fit_transform(all_labels)\n",
    "all_labels"
   ]
  },
  {
   "cell_type": "markdown",
   "id": "ceee4956",
   "metadata": {},
   "source": [
    "### Spliting Data "
   ]
  },
  {
   "cell_type": "code",
   "execution_count": 56,
   "id": "b9f94278",
   "metadata": {},
   "outputs": [
    {
     "name": "stdout",
     "output_type": "stream",
     "text": [
      "X_train :  (1675, 28, 28, 3)\n",
      "X_test :  (419, 28, 28, 3)\n",
      "y_train :  (1675, 10)\n",
      "y_test :  (419, 10)\n"
     ]
    }
   ],
   "source": [
    "X_train , X_test , y_train , y_test = train_test_split(all_images , all_labels , test_size=0.2 ,random_state=120)\n",
    "\n",
    "print(\"X_train : \", X_train.shape)\n",
    "print(\"X_test : \", X_test.shape)\n",
    "print(\"y_train : \", y_train.shape)\n",
    "print(\"y_test : \", y_test.shape)"
   ]
  },
  {
   "cell_type": "markdown",
   "id": "58ece33d",
   "metadata": {},
   "source": [
    "### Creating Model"
   ]
  },
  {
   "cell_type": "code",
   "execution_count": 66,
   "id": "636b88e8",
   "metadata": {},
   "outputs": [],
   "source": [
    "model = models.Sequential([\n",
    "    layers.Conv2D(16, (3,3) ,activation ='relu' , input_shape=(28, 28, 3)),\n",
    "    layers.BatchNormalization(),\n",
    "    layers.MaxPooling2D(2,2),\n",
    "    layers.Conv2D(32, (3,3) ,activation ='relu'),\n",
    "    layers.BatchNormalization(),\n",
    "    layers.MaxPooling2D(2,2),\n",
    "    layers.Conv2D(64, (3,3) ,activation ='relu'),\n",
    "    layers.BatchNormalization(),\n",
    "    layers.MaxPooling2D(2,2),\n",
    "    layers.Flatten(),\n",
    "    layers.Dense(512,activation ='relu'),\n",
    "    layers.Dense(10,activation ='softmax')\n",
    "])\n",
    "\n",
    "model.compile(optimizer='sgd' ,loss = \"categorical_crossentropy\", metrics =['accuracy'])"
   ]
  },
  {
   "cell_type": "markdown",
   "id": "b40695fb",
   "metadata": {},
   "source": [
    "### Fitting Model"
   ]
  },
  {
   "cell_type": "code",
   "execution_count": 67,
   "id": "867cb636",
   "metadata": {
    "scrolled": true
   },
   "outputs": [
    {
     "name": "stdout",
     "output_type": "stream",
     "text": [
      "Epoch 1/10\n",
      "53/53 [==============================] - 67s 1s/step - loss: 0.6013 - accuracy: 0.9057 - val_loss: 2.2506 - val_accuracy: 0.1193\n",
      "Epoch 2/10\n",
      "53/53 [==============================] - 69s 1s/step - loss: 0.0622 - accuracy: 0.9988 - val_loss: 2.1482 - val_accuracy: 0.3174\n",
      "Epoch 3/10\n",
      "53/53 [==============================] - 73s 1s/step - loss: 0.0339 - accuracy: 0.9988 - val_loss: 1.9446 - val_accuracy: 0.4702\n",
      "Epoch 4/10\n",
      "53/53 [==============================] - 66s 1s/step - loss: 0.0238 - accuracy: 0.9988 - val_loss: 1.6267 - val_accuracy: 0.7971\n",
      "Epoch 5/10\n",
      "53/53 [==============================] - 62s 1s/step - loss: 0.0190 - accuracy: 0.9988 - val_loss: 1.2238 - val_accuracy: 0.8902\n",
      "Epoch 6/10\n",
      "53/53 [==============================] - 62s 1s/step - loss: 0.0174 - accuracy: 0.9988 - val_loss: 0.7708 - val_accuracy: 0.9833\n",
      "Epoch 7/10\n",
      "53/53 [==============================] - 66s 1s/step - loss: 0.0154 - accuracy: 0.9988 - val_loss: 0.4081 - val_accuracy: 1.0000\n",
      "Epoch 8/10\n",
      "53/53 [==============================] - 63s 1s/step - loss: 0.0146 - accuracy: 0.9988 - val_loss: 0.1618 - val_accuracy: 1.0000\n",
      "Epoch 9/10\n",
      "53/53 [==============================] - 75s 1s/step - loss: 0.0128 - accuracy: 0.9988 - val_loss: 0.0632 - val_accuracy: 1.0000\n",
      "Epoch 10/10\n",
      "53/53 [==============================] - 64s 1s/step - loss: 0.0112 - accuracy: 0.9988 - val_loss: 0.0263 - val_accuracy: 1.0000\n"
     ]
    }
   ],
   "source": [
    "history = model.fit(X_train ,y_train , validation_data=(X_test,y_test) , epochs=10, batch_size=32)"
   ]
  },
  {
   "cell_type": "markdown",
   "id": "99e941fe",
   "metadata": {},
   "source": [
    "### Plotting Train and Validation Accuracy "
   ]
  },
  {
   "cell_type": "code",
   "execution_count": 68,
   "id": "11b2f65d",
   "metadata": {
    "scrolled": true
   },
   "outputs": [
    {
     "data": {
      "image/png": "[encoded data removed]",
      "text/plain": [
       "<Figure size 640x480 with 1 Axes>"
      ]
     },
     "metadata": {},
     "output_type": "display_data"
    }
   ],
   "source": [
    "plt.plot(history.history['accuracy'] , label='Train Accuracy')\n",
    "plt.plot(history.history['val_accuracy'] , label='Test Accuracy')\n",
    "\n",
    "plt.plot(history.history['loss'] , label='Train loss')\n",
    "plt.plot(history.history['val_loss'] , label='Test loss')\n",
    "\n",
    "plt.xlabel('Epoch')\n",
    "plt.ylabel('Accuracy/Loss')\n",
    "plt.legend()\n",
    "plt.show()"
   ]
  },
  {
   "cell_type": "markdown",
   "id": "10adce66",
   "metadata": {},
   "source": [
    "### Saving Model"
   ]
  },
  {
   "cell_type": "code",
   "execution_count": 70,
   "id": "4cee40f8",
   "metadata": {},
   "outputs": [],
   "source": [
    "model.save('model.h5')"
   ]
  }
 ],
 "metadata": {
  "kernelspec": {
   "display_name": "Python 3 (ipykernel)",
   "language": "python",
   "name": "python3"
  },
  "language_info": {
   "codemirror_mode": {
    "name": "ipython",
    "version": 3
   },
   "file_extension": ".py",
   "mimetype": "text/x-python",
   "name": "python",
   "nbconvert_exporter": "python",
   "pygments_lexer": "ipython3",
   "version": "3.10.7"
  }
 },
 "nbformat": 4,
 "nbformat_minor": 5
}
